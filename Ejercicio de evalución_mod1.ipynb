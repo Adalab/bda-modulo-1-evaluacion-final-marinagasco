{
 "cells": [
  {
   "cell_type": "markdown",
   "metadata": {},
   "source": [
    "\n",
    "# Evaluación Final Módulo 1\n",
    "\n",
    "## Instrucciones:\n",
    "\n",
    "- Antes de empezar, hay que crear un nuevo repositorio desde GitHub Classroom usando este [enlace](https://classroom.github.com/a/irgzJ0KJ). Una vez creado, hay que clonar en nuestro ordenador y en la carpeta creada empezaremos a trabajar en el ejercicio.\n",
    "\n",
    "- Esta evaluación consta de una serie de preguntas que evalúan tu comprensión y habilidades en relación con funciones, clases y regex.\n",
    "\n",
    "- Puedes usar recursos externos, incluyendo internet y materiales de referencia o tus propias notas.\n",
    "\n",
    "- Completa los ejercicios en un jupyter notebook.\n",
    "\n",
    "\n",
    "\n",
    "## Ejercicio\n",
    "\n",
    "- A lo largo de esta evaluación tendrás que crear una clase llamada `TiendaOnline` que cumpla los siguientes requisitos:\n",
    "\n",
    "    - La clase `TiendaOnline` debe tener los siguientes atributos:\n",
    "\n",
    "        1. `inventario` (lista de diccionarios): Un atributo para almacenar los productos en el inventario. Cada producto debe ser representado como un diccionario con las siguientes claves: `'nombre'`, `'precio'`, y `'cantidad'`. Al principio deberá ser una lista vacía. Ejemplo de como debería ser:\n",
    "\n",
    "            ```python\n",
    "            [{'nombre': 'Camisa', 'precio': 20, 'cantidad': 40},\n",
    "            {'nombre': 'Pantalón', 'precio': 30, 'cantidad': 30}]\n",
    "            ```\n",
    "\n",
    "        2. `clientes` (diccionario): Un atributo para llevar un registro de los clientes de la tienda. Cada cliente debe ser representado como un diccionario con las siguientes claves: `'nombre'` y `'email'`. Al inicio deberá ser un diccionario vacío. Además, cada cliente debe tener un historial de compras. Deberá parecerse a:\n",
    "\n",
    "            ```python\n",
    "            {'Cliente1': {'email': 'cliente1@email.com', 'compras': []},\n",
    "            'Cliente2': {'email': 'cliente2@email.com', 'compras': []}}\n",
    "            ```\n",
    "\n",
    "        3. `ventas_totales` (float): Un atributo para llevar un registro de las ventas totales de la tienda. Inicializalo con valor 0. \n",
    "\n",
    "    - La clase `TiendaOnline` debe tener los siguientes métodos:\n",
    "\n",
    "        1. `agregar_producto(self, nombre, precio, cantidad)`: Este método agrega un producto al inventario o actualiza su cantidad si ya existe. Debe recibir el nombre, precio y cantidad del producto como parámetros. \n",
    "\n",
    "            - Itera a través del inventario y compara los nombres de los productos con el nombre proporcionado.\n",
    "\n",
    "            - Si el producto ya existe, actualiza la cantidad.\n",
    "\n",
    "            - Si no existe, agrega un nuevo producto al inventario.\n",
    "\n",
    "        2. `ver_inventario(self)`: Muestra el inventario de productos con sus detalles.\n",
    "\n",
    "            - Utiliza un bucle `for` para recorrer el inventario.\n",
    "\n",
    "            - Imprime los detalles (nombre, precio, cantidad) de cada producto.\n",
    "\n",
    "            - Debería verse:\n",
    "\n",
    "                ```python\n",
    "                Nombre: Camisa, Precio: $20, Cantidad: 50\n",
    "                Nombre: Pantalón, Precio: $30, Cantidad: 30\n",
    "                Nombre: Zapatos, Precio: $50, Cantidad: 40\n",
    "                Nombre: Camisa, Precio: $20, Cantidad: 50\n",
    "                ```\n",
    "\n",
    "        3. `buscar_producto(self, nombre)`: Busca un producto en el inventario por nombre y muestra sus detalles si se encuentra. Debe recibir el nombre del producto como parámetro.\n",
    "\n",
    "            - Utiliza un bucle `for` para recorrer el inventario.\n",
    "\n",
    "            - Compara los nombres de los productos con el nombre proporcionado.\n",
    "\n",
    "            - Si se encuentra el producto, imprime sus detalles.\n",
    "\n",
    "            - Debe mostrar:\n",
    "\n",
    "                ```python\n",
    "                Nombre: Camisa, Precio: $20, Cantidad: 40\n",
    "                ```\n",
    "\n",
    "        4. `actualizar_stock(self, nombre, cantidad)`: Actualiza el stock de un producto en el inventario. Debe recibir el nombre del producto y la cantidad a agregar o quitar como parámetros.\n",
    "\n",
    "           - Utiliza un bucle `for` para recorrer el inventario.\n",
    "\n",
    "           - Busca el producto por nombre.\n",
    "\n",
    "           - Actualiza la cantidad según la entrada del usuario.\n",
    "\n",
    "           - Si el producto no esta en el inventario muestra un mensaje indicándolo. \n",
    "\n",
    "        5. `eliminar_producto(self, nombre)`: Elimina un producto del inventario por nombre. Debe recibir el nombre del producto como parámetro.\n",
    "\n",
    "            - Utiliza un bucle `for` para recorrer el inventario.\n",
    "\n",
    "            - Busca el producto por nombre.\n",
    "\n",
    "            - Elimina el producto del inventario si existe.\n",
    "\n",
    "            - Si el producto no esta en el inventario muestra un mensaje indicándolo. \n",
    "\n",
    "\n",
    "        6. `calcular_valor_inventario(self)`: Calcula y muestra el valor total del inventario.\n",
    "\n",
    "            - Utiliza un bucle for para calcular el valor total del inventario.\n",
    "\n",
    "            - Itera a través del inventario y suma el valor de cada producto (precio x cantidad). Es decir, calcula el valor total del inventario. Ejemplo:\n",
    "\n",
    "                ```python\n",
    "                # si tenemos 5 camisas que valen 5 euros \n",
    "                # y 10 calcetines que valen 1 euro\n",
    "                # este método te tiene que devolver: 35 euros\n",
    "\n",
    "                valor_camisas = 5 * 5\n",
    "                valor_calcetines = 10 * 1\n",
    "\n",
    "                valor_camisas + valor_calcetines = 35\n",
    "                ```\n",
    "\n",
    "\n",
    "        7. `realizar_compra(self)`: Permite a un cliente realizar una compra seleccionando productos del inventario. Debe interactuar con el cliente para seleccionar productos y calcular el costo total de la compra.\n",
    "\n",
    "            - Utiliza un bucle `while` para permitir al cliente realizar múltiples compras.\n",
    "\n",
    "            - Muestra el inventario y solicita al cliente ingresar el nombre del producto que desea comprar.\n",
    "\n",
    "            - Registra los productos seleccionados en un carrito y actualiza el inventario.\n",
    "\n",
    "            - Calcula el costo total de la compra.\n",
    "\n",
    "        �� A partir de este punto los ejercicios son voluntarios:\n",
    "        \n",
    "\n",
    "        8. `procesar_pago(self)`: Procesa el pago de una compra, calcula el cambio y muestra un mensaje de confirmación.\n",
    "\n",
    "            - Utiliza un bloque `try...except` para manejar excepciones.\n",
    "\n",
    "            - Solicita al cliente ingresar la cantidad total y la cantidad de pago usando un input.\n",
    "\n",
    "            - Calcula el cambio y muestra un mensaje de pago exitoso o un error en caso de monto insuficiente.\n",
    "\n",
    "        9. `agregar_cliente(self, nombre, email)`: Agrega un nuevo cliente al registro de clientes. Debe recibir el nombre y el correo electrónico del cliente como parámetros.\n",
    "\n",
    "            - Agrega un cliente al diccionario de clientes con su nombre y correo electrónico.\n",
    "\n",
    "        10. `ver_clientes(self)`: Muestra la lista de clientes registrados con sus nombres y correos electrónicos.\n",
    "\n",
    "            - Utiliza un bucle `for` para recorrer la base de datos de clientes.\n",
    "\n",
    "            - Imprime los detalles de cada cliente (nombre y correo electrónico).\n",
    "\n",
    "        11. `registrar_compra(self, nombre_cliente, carrito)`: Registra una compra para un cliente, actualiza las ventas totales y agrega la compra al historial del cliente. Debe recibir el nombre del cliente y el carrito de compras como parámetros.\n",
    "\n",
    "            - Busca al cliente en el diccionario de clientes.\n",
    "\n",
    "            - Si el cliente no esta en el diccionario de clientes, muestra que no se puede realizar la acción por que el cliente no está en el diccionario. \n",
    "\n",
    "            - Calcula el total de la compra y registra la compra, incluyendo los productos y el total.\n",
    "\n",
    "            - Ejemplo:\n",
    "\n",
    "                ```python\n",
    "                carrito_cliente1 = {\"Camisa\": {\"precio\": 20, \"cantidad\": 3}}\n",
    "                tienda.registrar_compra(\"Cliente1\", carrito_cliente1)\n",
    "                ```\n",
    "\n",
    "        12. `ver_compras_cliente(self, nombre_cliente)`: Muestra el historial de compras de un cliente. Debe recibir el nombre del cliente como parámetro.\n",
    "\n",
    "            - Busca al cliente en el diccionario de clientes.\n",
    "\n",
    "            - Muestra las compras realizadas por el cliente, incluyendo detalles de productos y totales.\n",
    "\n",
    "        13. `calcular_ventas_totales(self)`: Muestra las ventas totales de la tienda.\n",
    "\n",
    "            - Suma los totales de todas las compras realizadas y muestra el total de ventas totales en la tienda.\n",
    "\n",
    "- Instrucciones Adicionales:\n",
    "\n",
    "    - Debes crear instancias de la clase `TiendaOnline` y probar cada uno de los métodos para demostrar que funcionan correctamente.\n",
    "\n",
    "\n",
    "\n",
    "## Normas\n",
    "\n",
    "Este ejercicio está pensado para que lo realices de forma individual en clase, pero podrás consultar tus dudas con la profesora y tus compañeras si lo consideras necesario. Ellas no te darán directamente la solución de tu duda, pero sí pistas para poder solucionarla. Aún facilitando la comunicación entre compañeras, durante la prueba no debes copiar código de otra persona ni acceder a su portátil. Confiamos en tu responsabilidad.\n",
    "\n",
    "La evaluación es una buena oportunidad para conocer cómo estás progresando, saber qué temas debes reforzar durante las siguientes semanas y cuáles dominas. Te recomendamos que te sientas cómoda con el ejercicio que entregues y no envíes cosas copiadas que no entiendas.\n",
    "\n",
    "Si detectamos que has entregado código que no es tuyo, no entiendes y no lo puedes defender, pasarás directamente a la re-evaluación del módulo. Tu objetivo no debería ser pasar la evaluación sino convertirte en analisat de datos, y esto debes tenerlo claro en todo momento.\n",
    "\n",
    "Una vez entregado el ejercicio realizarás una revisión del mismo con la profesora (20 minutos), que se asemenjará a una entrevista técnica: te pedirá que expliques las decisiones tomadas para realizarlo.\n",
    "\n",
    "Es una oportunidad para practicar la dinámica de una entrevista técnica donde te van a proponer cambios sobre tu código que no conoces a priori. Si evitas que otras compañeras te den pistas sobre la dinámica de feedback, podrás aprovecharlo como una práctica y pasar los nervios con la profesora en lugar de en tu primera entrevista de trabajo.\n",
    "\n",
    "Al final tendrás un feedback sobre aspectos a destacar y a mejorar en tu ejercicio, y sabrás qué objetivos de aprendizaje has supera\n",
    "\n",
    "## Criterios de evaluación\n",
    "\n",
    "Vamos a listar los criterios de evaluación de este ejercicio. Si no superas al menos el 80% de estos criterios o no has superado algún criterio clave (marcados con \\*) te pediremos que realices una re-evaluación con el fin de que termines el curso mejor preparada y enfrentes tu primera experiencia profesional con más seguridad. En caso contrario, estás aprendiendo al ritmo que hemos pautado para poder afrontar los conocimientos del siguiente módulo.\n",
    "\n",
    "### Python Básico\n",
    "- Condicionales (if, elif, else) *\n",
    "- Bucles (for y while). Importante entender cómo iterar por una lista, o un diccionario. * \n",
    "- Funciones (creación de funciones con parámetros, parámetros por defecto) *\n",
    "- Conceptos básicos de regex * \n",
    "- Clases\n",
    "- Diferencias entre los distintos tipos de datos en python (strings, listas, tuplas, sets y diccionarios) *\n",
    "\n",
    "### Otros criterios a tener en cuenta\n",
    "\n",
    "- Usar inglés para nombres de variables, funciones, clases, mensajes de commit, nombres de ficheros.\n",
    "- El repositorio de GitHub debe tener README explicando muy brevemente cómo arrancar el proyecto."
   ]
  },
  {
   "cell_type": "code",
   "execution_count": null,
   "metadata": {},
   "outputs": [],
   "source": [
    "#Crear clase para TiendaOnline: \n",
    "\n",
    "class TiendaOnline:\n",
    "#Creo la función de init o método constructor para construir los atributos. \n",
    "    def __init__(self):\n",
    "        # Iniciamos los atributos, características de nuestra clase. \n",
    "        self.inventario =  [] \n",
    "        self.clientes = {} \n",
    "        self.ventas_totales = 0.0\n",
    "\n",
    "#Creo los siguientes métodos. \n",
    "    def agregar_producto(self, nombre, precio, cantidad): \n",
    "        for producto in self.inventario: #Cada producto es un diccionario que representa un producto ind¡vidual con sus atributos. \n",
    "            if producto [\"nombre\"]  == nombre: #Comparo el nombre del producto que quiero agregar con todos los nombres del inventario.\n",
    "                producto[\"cantidad\"] += cantidad #Compruebo la cantidad que hay en el inventario y la sumo si es el caso.\n",
    "            print( \"El producto ya está actualizado.\")\n",
    "\n",
    "#Si el producto no existe, lo agrego al inventario con un diccionario. \n",
    "\n",
    "        nuevo_producto = {\"nombre\": nombre, \"precio\": precio, \"cantidad\": cantidad}\n",
    "        self.inventario.append(nuevo_producto)  \n",
    "        print(f\"Se ha agregado el producto {nombre} en {cantidad} unidades.\")\n",
    "   \n",
    "\n",
    "#Creo el método para ver todo mi inventario: \n",
    "\n",
    "    def ver_inventario (self):\n",
    "        for producto in self.inventario:\n",
    "            print(f\"Nombre: {producto[\"nombre\"]}, Precio: {producto[\"precio\"]}€, Cantidad: {producto[\"cantidad\"]} unidades\")\n",
    "\n",
    "#Creo el método para buscar si existe un producto en mi inventario: \n",
    "\n",
    "    def buscar_producto(self, nombre_producto):\n",
    "        for producto in self.inventario:\n",
    "            if producto [\"nombre\"] == nombre_producto:\n",
    "                print(f\"El producto {producto} se ha encontrado en el inventario.\")\n",
    "                return\n",
    "        print(\"No está en el inventario.\")\n",
    "                \n",
    "\n",
    "#Creo el método para actualizar el stock:\n",
    "    def actualizar_stock(self, nombre_producto, cantidad):\n",
    "        for producto in self.inventario:\n",
    "            if producto [\"nombre\"] == nombre_producto:\n",
    "                producto [\"cantidad\"] += cantidad \n",
    "                print(f\"El stock del {producto [\"nombre\"]} ha sido actualizado.\")\n",
    "                return\n",
    "        print(f\"El producto {nombre_producto} no está en el inventario.\")\n",
    "\n",
    "#Creo el método para eliminar un producto: \n",
    "    def eliminar_producto(self, nombre):\n",
    "        for producto in self.inventario:\n",
    "            if producto [\"nombre\"] == nombre:\n",
    "                self.inventario.remove(producto)\n",
    "                print(f\"El producto {producto [\"nombre\"]} se ha eliminado del inventario\")\n",
    "                return\n",
    "        print(f\"El {producto [\"nombre\"]} no está en el inventario\")\n",
    "\n",
    "#Creo el método para calcular el valor total de mi inventario: \n",
    "\n",
    "    def calcular_valor_inventario(self): #No añadimos el \"valor\" porque es el resultado y no añadimos precio y cantidad porque ya lo tenemos. \n",
    "        valor_total = 0 #hemos creado esta variable y aquí vamos a sumar el resultado del for. \n",
    "        for producto in self.inventario:\n",
    "            valor = producto[\"precio\"] * producto[\"cantidad\"] \n",
    "            valor_total += valor\n",
    "        return f\"El valor total es de mi inventario es {valor_total}\" #No entiendo porque lo añadimos enla misma línea. \n",
    "\n",
    "#Creo el método para poder realizar una compra:\n",
    "\n",
    "    def realizar_compra(self):\n",
    "        carrito = [] #creo una lista vacía del carrito. \n",
    "        total_compra = 0 #creo una variable del total de nuestro compra que de momento es 0.\n",
    "        while True:\n",
    "           print(\"Inventario disponible:\") #Primero, muestro todo el inventario para que el usuario pueda escoger qué quiere comprar. \n",
    "           for producto in self.inventario:\n",
    "            print(f\"{producto['nombre']}: {producto['precio']}€ ({producto['cantidad']} disponibles)\")\n",
    "\n",
    "            nombre_producto = input(\"Introduce el nombre del producto que deseas comprar (o 'salir' para terminar): \") #Pido al cliente que seleccione un producto.\n",
    "            for producto in self.inventario: #Busco el producto en el inventario. \n",
    "             if producto[\"nombre\"] == nombre_producto:\n",
    "                cantidad = input(f\"¿Cuántas unidades de {nombre_producto} deseas comprar?\")\n",
    "                if cantidad > producto[\"cantidad\"]:\n",
    "                    print(f\"No hay {nombre_producto} disponibles.\")\n",
    "                else: \n",
    "                    producto[\"cantidad\"] -= cantidad #Actualizo el inventario y calculo el coste total. \n",
    "                    total_compra += producto[\"precio\"] * cantidad\n",
    "                    print(f\"Has añadido {cantidad} unidades de {nombre_producto} al carrito.\")\n",
    "                break\n",
    "        else:\n",
    "          \n",
    "            print(f\"El producto {nombre_producto} no está en el inventario.\") \n",
    "\n",
    "    print(f\"Total de la compra: {total_compra}€\")\n",
    "\n",
    "    #Creo un método para agregar un nuevo cliente: \n",
    "\n",
    "    def agregar_cliente (self, nombre,email): \n",
    "        for cliente in self.clientes: \n",
    "            if cliente[\"nombre\"]  == nombre: \n",
    "                cliente[\"email\"] == email \n",
    "            print( \"El cliente ya ha sido agregado correctamente.\")\n",
    "\n",
    "    #Creo un método para ver todos mis clientes: \n",
    "\n",
    "    def ver_clientes (self):\n",
    "        for clientes in self.clientes:\n",
    "            print(f\"Nombre: {clientes[\"nombre\"]}, \"Email : {email} [\"email\"]) #No sé porque no me entra email. \n",
    "\n",
    "    #Creo un método para registrar las compras de mis clientes: \n",
    "\n",
    "    def registrar_compra(self, nombre_cliente, carrito): #NO LO SÉ HACER. \n",
    "\n",
    "    #Creo un método para ver las compras de mis clientes: \n",
    "\n",
    "    def ver_compras_cliente(self, nombre_cliente): #NO LO SÉ HACER. \n",
    "\n",
    "    #Creo un método para calcular ventas totales: \n",
    "\n",
    "    def calcular_ventas_totales(self): #NO LO SÉ HACER. \n",
    "    total_ventas = 0 #Creo una variable de ventas totales empezando por 0. \n",
    "    for nombre_cliente in self.clientes: #Creo un bucle que recorra los clientes. \n",
    "            for producto in self.inventario: #Creo un bucle que recorra todas los productos que se han comprado en todo el inventario. \n",
    "            for compra in self.ventas_totales: #Creo un bucle que recorra todas las compras el todas las ventas. \n",
    "    return total_ventas\n",
    "\n",
    "\n",
    "\n"
   ]
  },
  {
   "cell_type": "code",
   "execution_count": 128,
   "metadata": {},
   "outputs": [
    {
     "name": "stdout",
     "output_type": "stream",
     "text": [
      "Se ha agregado el producto Camisa en 50 unidades.\n"
     ]
    }
   ],
   "source": [
    "mitienda = TiendaOnline() #cuando nos creamos el objeto de tienda añadimos paréntesis porque es donde deberían ir los atributos. \n",
    "mitienda.agregar_producto (\"Camisa\", 20, 50)\n"
   ]
  },
  {
   "cell_type": "code",
   "execution_count": 112,
   "metadata": {},
   "outputs": [
    {
     "name": "stdout",
     "output_type": "stream",
     "text": [
      "El producto ya está actualizado.\n",
      "Se ha agregado el producto Pantalón en 30 unidades.\n",
      "El producto ya está actualizado.\n",
      "El producto ya está actualizado.\n",
      "Se ha agregado el producto Zapatos en 40 unidades.\n"
     ]
    }
   ],
   "source": [
    "mitienda.agregar_producto (\"Pantalón\", 30, 30)\n",
    "mitienda.agregar_producto (\"Zapatos\", 50, 40)"
   ]
  },
  {
   "cell_type": "code",
   "execution_count": 113,
   "metadata": {},
   "outputs": [
    {
     "data": {
      "text/plain": [
       "[{'nombre': 'Camisa', 'precio': 20, 'cantidad': 50},\n",
       " {'nombre': 'Pantalón', 'precio': 30, 'cantidad': 30},\n",
       " {'nombre': 'Zapatos', 'precio': 50, 'cantidad': 40}]"
      ]
     },
     "execution_count": 113,
     "metadata": {},
     "output_type": "execute_result"
    }
   ],
   "source": [
    "mitienda.inventario"
   ]
  },
  {
   "cell_type": "code",
   "execution_count": 96,
   "metadata": {},
   "outputs": [
    {
     "name": "stdout",
     "output_type": "stream",
     "text": [
      "El producto {'nombre': 'Camisa', 'precio': 20, 'cantidad': 50} se ha encontrado en el inventario.\n"
     ]
    }
   ],
   "source": [
    "mitienda.buscar_producto (\"Camisa\")"
   ]
  },
  {
   "cell_type": "code",
   "execution_count": 114,
   "metadata": {},
   "outputs": [
    {
     "name": "stdout",
     "output_type": "stream",
     "text": [
      "El producto {'nombre': 'Pantalón', 'precio': 30, 'cantidad': 30} se ha encontrado en el inventario.\n"
     ]
    }
   ],
   "source": [
    "mitienda.buscar_producto (\"Pantalón\")"
   ]
  },
  {
   "cell_type": "code",
   "execution_count": 115,
   "metadata": {},
   "outputs": [
    {
     "name": "stdout",
     "output_type": "stream",
     "text": [
      "El producto {'nombre': 'Zapatos', 'precio': 50, 'cantidad': 40} se ha encontrado en el inventario.\n"
     ]
    }
   ],
   "source": [
    "mitienda.buscar_producto (\"Zapatos\")"
   ]
  },
  {
   "cell_type": "code",
   "execution_count": 116,
   "metadata": {},
   "outputs": [
    {
     "name": "stdout",
     "output_type": "stream",
     "text": [
      "No está en el inventario.\n"
     ]
    }
   ],
   "source": [
    "mitienda.buscar_producto (\"Gorros\")"
   ]
  },
  {
   "cell_type": "code",
   "execution_count": 117,
   "metadata": {},
   "outputs": [
    {
     "name": "stdout",
     "output_type": "stream",
     "text": [
      "El producto Gorros no está en el inventario.\n"
     ]
    }
   ],
   "source": [
    "mitienda.actualizar_stock (\"Gorros\", 10)"
   ]
  },
  {
   "cell_type": "code",
   "execution_count": 119,
   "metadata": {},
   "outputs": [
    {
     "name": "stdout",
     "output_type": "stream",
     "text": [
      "El stock del Zapatos ha sido actualizado.\n"
     ]
    }
   ],
   "source": [
    "mitienda.actualizar_stock (\"Zapatos\", 10)"
   ]
  },
  {
   "cell_type": "code",
   "execution_count": 120,
   "metadata": {},
   "outputs": [
    {
     "name": "stdout",
     "output_type": "stream",
     "text": [
      "El producto Zapatos se ha eliminado del inventario\n"
     ]
    }
   ],
   "source": [
    "mitienda.eliminar_producto(\"Zapatos\")"
   ]
  },
  {
   "cell_type": "code",
   "execution_count": 121,
   "metadata": {},
   "outputs": [
    {
     "data": {
      "text/plain": [
       "[{'nombre': 'Camisa', 'precio': 20, 'cantidad': 50},\n",
       " {'nombre': 'Pantalón', 'precio': 30, 'cantidad': 30}]"
      ]
     },
     "execution_count": 121,
     "metadata": {},
     "output_type": "execute_result"
    }
   ],
   "source": [
    "mitienda.inventario"
   ]
  },
  {
   "cell_type": "code",
   "execution_count": 122,
   "metadata": {},
   "outputs": [
    {
     "name": "stdout",
     "output_type": "stream",
     "text": [
      "El producto ya está actualizado.\n",
      "El producto ya está actualizado.\n",
      "Se ha agregado el producto Zapatos en 40 unidades.\n"
     ]
    }
   ],
   "source": [
    "mitienda.agregar_producto (\"Zapatos\", 50, 40)"
   ]
  },
  {
   "cell_type": "code",
   "execution_count": 129,
   "metadata": {},
   "outputs": [
    {
     "data": {
      "text/plain": [
       "'El valor total es de mi inventario es 1000'"
      ]
     },
     "execution_count": 129,
     "metadata": {},
     "output_type": "execute_result"
    }
   ],
   "source": [
    "mitienda.calcular_valor_inventario()"
   ]
  },
  {
   "cell_type": "code",
   "execution_count": 137,
   "metadata": {},
   "outputs": [
    {
     "ename": "NameError",
     "evalue": "name 'compra' is not defined",
     "output_type": "error",
     "traceback": [
      "\u001b[0;31m---------------------------------------------------------------------------\u001b[0m",
      "\u001b[0;31mNameError\u001b[0m                                 Traceback (most recent call last)",
      "Cell \u001b[0;32mIn[137], line 1\u001b[0m\n\u001b[0;32m----> 1\u001b[0m \u001b[43mmitienda\u001b[49m\u001b[38;5;241;43m.\u001b[39;49m\u001b[43mrealizar_compra\u001b[49m\u001b[43m(\u001b[49m\u001b[43m)\u001b[49m\n",
      "Cell \u001b[0;32mIn[127], line 72\u001b[0m, in \u001b[0;36mTiendaOnline.realizar_compra\u001b[0;34m(self)\u001b[0m\n\u001b[1;32m     71\u001b[0m \u001b[38;5;28;01mdef\u001b[39;00m \u001b[38;5;21mrealizar_compra\u001b[39m(\u001b[38;5;28mself\u001b[39m):\n\u001b[0;32m---> 72\u001b[0m     \u001b[38;5;28;01mwhile\u001b[39;00m \u001b[43mcompra\u001b[49m \u001b[38;5;129;01min\u001b[39;00m \u001b[38;5;28mself\u001b[39m\u001b[38;5;241m.\u001b[39minventario:\n\u001b[1;32m     73\u001b[0m         \u001b[38;5;28;01mif\u001b[39;00m producto [\u001b[38;5;124m\"\u001b[39m\u001b[38;5;124mnombre\u001b[39m\u001b[38;5;124m\"\u001b[39m] \u001b[38;5;241m==\u001b[39m nombre:\n\u001b[1;32m     74\u001b[0m             \u001b[38;5;28mself\u001b[39m\u001b[38;5;241m.\u001b[39minventario\u001b[38;5;241m.\u001b[39mpop(producto)\n",
      "\u001b[0;31mNameError\u001b[0m: name 'compra' is not defined"
     ]
    }
   ],
   "source": [
    "mitienda.realizar_compra()"
   ]
  },
  {
   "cell_type": "code",
   "execution_count": 139,
   "metadata": {},
   "outputs": [
    {
     "ename": "AttributeError",
     "evalue": "'TiendaOnline' object has no attribute 'agregar_cliente'",
     "output_type": "error",
     "traceback": [
      "\u001b[0;31m---------------------------------------------------------------------------\u001b[0m",
      "\u001b[0;31mAttributeError\u001b[0m                            Traceback (most recent call last)",
      "Cell \u001b[0;32mIn[139], line 1\u001b[0m\n\u001b[0;32m----> 1\u001b[0m \u001b[43mmitienda\u001b[49m\u001b[38;5;241;43m.\u001b[39;49m\u001b[43magregar_cliente\u001b[49m(\u001b[38;5;124m\"\u001b[39m\u001b[38;5;124mMarina\u001b[39m\u001b[38;5;124m\"\u001b[39m)\n",
      "\u001b[0;31mAttributeError\u001b[0m: 'TiendaOnline' object has no attribute 'agregar_cliente'"
     ]
    }
   ],
   "source": [
    "mitienda.agregar_cliente(\"Marina\")"
   ]
  },
  {
   "cell_type": "code",
   "execution_count": null,
   "metadata": {},
   "outputs": [],
   "source": []
  }
 ],
 "metadata": {
  "kernelspec": {
   "display_name": "Python 3",
   "language": "python",
   "name": "python3"
  },
  "language_info": {
   "codemirror_mode": {
    "name": "ipython",
    "version": 3
   },
   "file_extension": ".py",
   "mimetype": "text/x-python",
   "name": "python",
   "nbconvert_exporter": "python",
   "pygments_lexer": "ipython3",
   "version": "3.12.6"
  }
 },
 "nbformat": 4,
 "nbformat_minor": 2
}
